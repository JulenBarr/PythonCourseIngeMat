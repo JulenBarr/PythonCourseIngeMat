{
 "cells": [
  {
   "cell_type": "markdown",
   "id": "6fca32aa",
   "metadata": {},
   "source": [
    "# Vamos a importar el archivo Mytest.csv donde se encuentran los datos con pandas"
   ]
  },
  {
   "cell_type": "code",
   "execution_count": 1,
   "id": "7529c774",
   "metadata": {},
   "outputs": [],
   "source": []
  },
  {
   "cell_type": "code",
   "execution_count": 21,
   "id": "0898750a",
   "metadata": {},
   "outputs": [],
   "source": []
  },
  {
   "cell_type": "markdown",
   "id": "b73a13ed",
   "metadata": {},
   "source": [
    "# Veamos como es el archivo"
   ]
  },
  {
   "cell_type": "code",
   "execution_count": null,
   "id": "8cfa3059",
   "metadata": {},
   "outputs": [],
   "source": []
  },
  {
   "cell_type": "code",
   "execution_count": null,
   "id": "509e1ad6",
   "metadata": {},
   "outputs": [],
   "source": []
  },
  {
   "cell_type": "markdown",
   "id": "2a56d4dc",
   "metadata": {},
   "source": [
    "# Y vamos a visualizar los datos con Matplotlib"
   ]
  },
  {
   "cell_type": "code",
   "execution_count": 18,
   "id": "93bf9d93",
   "metadata": {},
   "outputs": [],
   "source": []
  },
  {
   "cell_type": "code",
   "execution_count": null,
   "id": "8d4d5000",
   "metadata": {},
   "outputs": [],
   "source": []
  },
  {
   "cell_type": "markdown",
   "id": "1c75e74e",
   "metadata": {},
   "source": [
    "# Podemos inetantar hacer un fitting manual"
   ]
  },
  {
   "cell_type": "code",
   "execution_count": 24,
   "id": "5e8c1105",
   "metadata": {},
   "outputs": [],
   "source": []
  },
  {
   "cell_type": "code",
   "execution_count": 26,
   "id": "2a19f0aa",
   "metadata": {},
   "outputs": [],
   "source": []
  },
  {
   "cell_type": "code",
   "execution_count": 28,
   "id": "aa01ac2e",
   "metadata": {},
   "outputs": [],
   "source": [
    "#fórmula de la recta\n"
   ]
  },
  {
   "cell_type": "code",
   "execution_count": null,
   "id": "533182a2",
   "metadata": {},
   "outputs": [],
   "source": []
  },
  {
   "cell_type": "markdown",
   "id": "a04b767f",
   "metadata": {},
   "source": [
    "# Pero, ¿y si tenemos una función más compleja? ¿o el ruido es mayor? \n",
    "# ¿Cómo hacemos un ajuste matemático?"
   ]
  },
  {
   "cell_type": "code",
   "execution_count": 31,
   "id": "9c2cc8f7",
   "metadata": {},
   "outputs": [],
   "source": [
    "# Vamos a hacer un ajuste por mínimos cuadrados (least squares -> lstsq)"
   ]
  },
  {
   "cell_type": "code",
   "execution_count": 1,
   "id": "c84706db",
   "metadata": {},
   "outputs": [],
   "source": [
    "#Busquemos como hay que usar lstsq en numpy"
   ]
  },
  {
   "cell_type": "code",
   "execution_count": null,
   "id": "28db12ad",
   "metadata": {},
   "outputs": [],
   "source": []
  }
 ],
 "metadata": {
  "kernelspec": {
   "display_name": "Python 3 (ipykernel)",
   "language": "python",
   "name": "python3"
  },
  "language_info": {
   "codemirror_mode": {
    "name": "ipython",
    "version": 3
   },
   "file_extension": ".py",
   "mimetype": "text/x-python",
   "name": "python",
   "nbconvert_exporter": "python",
   "pygments_lexer": "ipython3",
   "version": "3.8.5"
  }
 },
 "nbformat": 4,
 "nbformat_minor": 5
}
