{
 "cells": [
  {
   "cell_type": "code",
   "execution_count": null,
   "id": "5f22a7ed",
   "metadata": {},
   "outputs": [],
   "source": [
    "import pandas as pd\n",
    "from os import listdir\n",
    "from os.path import isfile, join"
   ]
  },
  {
   "cell_type": "markdown",
   "id": "dc02fec3",
   "metadata": {},
   "source": [
    "### Tenemos que volver a leer archivos"
   ]
  },
  {
   "cell_type": "code",
   "execution_count": null,
   "id": "20574e5d",
   "metadata": {},
   "outputs": [],
   "source": [
    "df = pd.read_csv(vuestro_path)\n",
    "print(df)\n",
    "    "
   ]
  },
  {
   "cell_type": "code",
   "execution_count": null,
   "id": "7164d0b8",
   "metadata": {},
   "outputs": [],
   "source": [
    "df.head()\n",
    "\n",
    "#Con df.head nos da siempre las primeras 5 lineas y podemos ver que queda todo mucho mas limpio. "
   ]
  },
  {
   "cell_type": "markdown",
   "id": "1c31b606",
   "metadata": {},
   "source": [
    "# Que tenemos que hacer con todos los datos que tenemos? "
   ]
  },
  {
   "cell_type": "markdown",
   "id": "ccdc7de7",
   "metadata": {},
   "source": [
    "# Queremos juntarlos en un solo csv"
   ]
  },
  {
   "cell_type": "markdown",
   "id": "579a7e8b",
   "metadata": {},
   "source": [
    "# Como podemos juntar todos los archivos csv en uno? Pues ni idea... Peero para esto esta google"
   ]
  },
  {
   "cell_type": "markdown",
   "id": "f166ae74",
   "metadata": {},
   "source": []
  },
  {
   "cell_type": "code",
   "execution_count": null,
   "id": "e26351a3",
   "metadata": {},
   "outputs": [],
   "source": [
    "#Codigo obteined en stackoverflow o similar. "
   ]
  },
  {
   "cell_type": "code",
   "execution_count": null,
   "id": "cb33c973",
   "metadata": {},
   "outputs": [],
   "source": [
    "all_months_data = pd.DataFrame() #aqui vamos a guardar nuestro nuevo data frame\n",
    "for file in files: \n",
    "    df = pd.read_csv(r\"C:\\Users\\usuario\\Desktop\\cursillo\\Pandas-Data-Science-Tasks-master\\SalesAnalysis\\Sales_Data/\"+file)\n",
    "    all_months_data = pd.concat([all_months_data, df])\n",
    "all_months_data.head()"
   ]
  },
  {
   "cell_type": "code",
   "execution_count": null,
   "id": "3b596789",
   "metadata": {},
   "outputs": [],
   "source": [
    "all_months_data.to_csv(\"all_data.csv\", index = False)"
   ]
  },
  {
   "cell_type": "code",
   "execution_count": null,
   "id": "6d25fa6e",
   "metadata": {},
   "outputs": [],
   "source": [
    "all_data = pd.read_csv(\"all_data.csv\")\n",
    "all_data.head()"
   ]
  },
  {
   "cell_type": "markdown",
   "id": "ae34206c",
   "metadata": {},
   "source": [
    "# Cual fue el mejor mes en ventas? Y cuando dinero gano la empresa?"
   ]
  },
  {
   "cell_type": "markdown",
   "id": "5d016741",
   "metadata": {},
   "source": [
    "# Pero sabemos el dinero que ganaron cada mes"
   ]
  },
  {
   "cell_type": "markdown",
   "id": "2564420e",
   "metadata": {},
   "source": [
    "# Claro, pero con lo que tenemos actualmente es complicado estudiar cada mes no?\n"
   ]
  },
  {
   "cell_type": "markdown",
   "id": "a4381ed4",
   "metadata": {},
   "source": [
    "### explicar como añadir una columna\n"
   ]
  },
  {
   "cell_type": "code",
   "execution_count": null,
   "id": "d37e5ceb",
   "metadata": {},
   "outputs": [],
   "source": [
    "all_data[\"Month\"] = all_data[\"Order Date\"].str[]\n",
    "all_data.head()\n",
    "#Jugar un poco con .str[:] para ver cuales son los numeros adecuados. "
   ]
  },
  {
   "cell_type": "markdown",
   "id": "3b03f674",
   "metadata": {},
   "source": [
    "# Al leer los archivos los valores numericos que vemos que tipo de valor son? (int, float, bool...?)"
   ]
  },
  {
   "cell_type": "code",
   "execution_count": null,
   "id": "4e7f71a5",
   "metadata": {},
   "outputs": [],
   "source": [
    "\n",
    "all_data[\"Month\"] = all_data[\"Month\"].astype(\"int32\")"
   ]
  },
  {
   "cell_type": "markdown",
   "id": "c984b8d9",
   "metadata": {},
   "source": [
    "# Que son los NaNs y que hacemos con ellos? "
   ]
  },
  {
   "cell_type": "code",
   "execution_count": null,
   "id": "27ffb795",
   "metadata": {
    "scrolled": true
   },
   "outputs": [],
   "source": [
    "all_data.head() #Como podemos visualizar mas valores que los 5 de siempre? "
   ]
  },
  {
   "cell_type": "markdown",
   "id": "452a4666",
   "metadata": {},
   "source": [
    "# Como podemos ver todos los NaNs que tenemos? Pues volvemos a google"
   ]
  },
  {
   "cell_type": "markdown",
   "id": "c9d53b0a",
   "metadata": {},
   "source": [
    "Pista: How to select rows with one or more nulls from a pandas DataFrame without listing columns explicitly?"
   ]
  },
  {
   "cell_type": "code",
   "execution_count": null,
   "id": "a770afc7",
   "metadata": {},
   "outputs": [],
   "source": [
    "#Codigo para visualizar todos los NaN"
   ]
  },
  {
   "cell_type": "code",
   "execution_count": null,
   "id": "aabfc109",
   "metadata": {},
   "outputs": [],
   "source": [
    "#Codigo para eliminar esos NaN"
   ]
  },
  {
   "cell_type": "markdown",
   "id": "cfc2de3d",
   "metadata": {},
   "source": [
    "# Ya no tenemos NaNs todo deberia ir bien no? "
   ]
  },
  {
   "cell_type": "code",
   "execution_count": null,
   "id": "67dd4afa",
   "metadata": {},
   "outputs": [],
   "source": [
    "all_data[\"Month\"] = all_data[\"Month\"].astype(\"int32\")"
   ]
  },
  {
   "cell_type": "markdown",
   "id": "56e959b1",
   "metadata": {},
   "source": [
    "# Cual esta siendo nuestro problema ahora? Que son los \"Or\"?"
   ]
  },
  {
   "cell_type": "code",
   "execution_count": null,
   "id": "d54a01e3",
   "metadata": {},
   "outputs": [],
   "source": [
    "temp_df = all_data[all_data[\"Order Date\"].str[0:2] == \"Or\"]\n",
    "temp_df.head()"
   ]
  },
  {
   "cell_type": "code",
   "execution_count": null,
   "id": "c2b99a30",
   "metadata": {},
   "outputs": [],
   "source": [
    "all_data = all_data[all_data[\"Order Date\"].str[0:2] #Que podemos poner aqui? \"Or\"]"
   ]
  },
  {
   "cell_type": "code",
   "execution_count": null,
   "id": "50636d77",
   "metadata": {},
   "outputs": [],
   "source": [
    "all_data[\"Month\"] = all_data[\"Month\"].astype(\"int32\")\n",
    "all_data.head()"
   ]
  },
  {
   "cell_type": "markdown",
   "id": "5527ba8c",
   "metadata": {},
   "source": [
    "# Ahora podemos volver a la pregunta inicial. O no? Sabemos la cantidad de productos que se ha vendido y el precio de cada uno. Que podemos hacer para facilitar el proceso?\n"
   ]
  },
  {
   "cell_type": "code",
   "execution_count": null,
   "id": "335cf870",
   "metadata": {},
   "outputs": [],
   "source": [
    "#### Convertir columnas to the correct type"
   ]
  },
  {
   "cell_type": "code",
   "execution_count": null,
   "id": "fb76eb1c",
   "metadata": {},
   "outputs": [],
   "source": []
  },
  {
   "cell_type": "code",
   "execution_count": null,
   "id": "393d9490",
   "metadata": {},
   "outputs": [],
   "source": [
    "all_data[\"Quantity Ordered\"] = pd.to_numeric(all_data[\"Quantity Ordered\"])#Make int\n",
    "all_data[\"Price Each\"] = pd.to_numeric(all_data[\"Price Each\"])#Make float\n",
    "all_data.head()"
   ]
  },
  {
   "cell_type": "code",
   "execution_count": null,
   "id": "bec31429",
   "metadata": {},
   "outputs": [],
   "source": [
    "all_data[\"Sales\"] = #Que ponemos en esta columna? \n",
    "all_data.head()"
   ]
  },
  {
   "cell_type": "markdown",
   "id": "4f5eb6f5",
   "metadata": {},
   "source": [
    "### Podremos responder ahora a la pregunta? "
   ]
  },
  {
   "cell_type": "code",
   "execution_count": null,
   "id": "1b2f23db",
   "metadata": {},
   "outputs": [],
   "source": [
    "all_data.groupby(\"Month\").sum()"
   ]
  },
  {
   "cell_type": "code",
   "execution_count": null,
   "id": "761065db",
   "metadata": {},
   "outputs": [],
   "source": [
    "#Importamos matplotlib.pyplot as plt\n",
    "import matplotlib.pyplot as plt"
   ]
  },
  {
   "cell_type": "code",
   "execution_count": null,
   "id": "f328c773",
   "metadata": {},
   "outputs": [],
   "source": [
    "months = range(1,13)\n",
    "\n",
    "resulst = all_data.groupby(\"Month\").sum()\n",
    "\n",
    "plt.bar(months, resulst[\"Price Each\"])\n"
   ]
  },
  {
   "cell_type": "code",
   "execution_count": null,
   "id": "62fa1538",
   "metadata": {},
   "outputs": [],
   "source": [
    "plt.bar(months, resulst[\"Sales\"])\n",
    "plt.xticks(months)\n",
    "plt.ylabel(\"Sale in USD ($)\")\n",
    "plt.xlabel(\"Month number\")"
   ]
  },
  {
   "cell_type": "markdown",
   "id": "e8bcfd52",
   "metadata": {},
   "source": [
    "# Que ciudad tuvo el mayor numero de ventas?"
   ]
  },
  {
   "cell_type": "code",
   "execution_count": null,
   "id": "d82f39b8",
   "metadata": {},
   "outputs": [],
   "source": [
    "all_data.head()"
   ]
  },
  {
   "cell_type": "markdown",
   "id": "0a823b7b",
   "metadata": {},
   "source": [
    "###  Explicar el .split"
   ]
  },
  {
   "cell_type": "code",
   "execution_count": null,
   "id": "d5631071",
   "metadata": {},
   "outputs": [],
   "source": [
    "all_data[\"City\"] = all_data[\"Purchase Address\"].apply(lambda x: x.split(\",\")[]) #borrar el index y explicar lambda\n",
    "all_data.head()\n"
   ]
  },
  {
   "cell_type": "code",
   "execution_count": null,
   "id": "4f252eb7",
   "metadata": {},
   "outputs": [],
   "source": []
  },
  {
   "cell_type": "code",
   "execution_count": null,
   "id": "6a2d1189",
   "metadata": {},
   "outputs": [],
   "source": [
    "def get_city(address): \n",
    "    return address.split(\",\")[1]"
   ]
  },
  {
   "cell_type": "code",
   "execution_count": null,
   "id": "b9f0ba3f",
   "metadata": {},
   "outputs": [],
   "source": [
    "def get_state(address):\n",
    "    return algo"
   ]
  },
  {
   "cell_type": "code",
   "execution_count": null,
   "id": "46197fbb",
   "metadata": {},
   "outputs": [],
   "source": [
    "all_data[\"City\"] = all_data[\"Purchase Address\"].apply(lambda x: get_city(x)+ ' ' + (get_state(x)))\n",
    "all_data.head()"
   ]
  },
  {
   "cell_type": "code",
   "execution_count": null,
   "id": "ab3de1bd",
   "metadata": {},
   "outputs": [],
   "source": [
    "results = all_data.groupby(\"City\").sum()\n",
    "results"
   ]
  },
  {
   "cell_type": "markdown",
   "id": "7a5bec27",
   "metadata": {},
   "source": [
    "### Pero para verlo mejor podemos hacer un plot. Podemos reutilizar el plot anterior... Pero tendremos algun problema"
   ]
  },
  {
   "cell_type": "code",
   "execution_count": null,
   "id": "708d6527",
   "metadata": {},
   "outputs": [],
   "source": [
    "cities = all_data[\"City\"].unique()\n",
    "\n",
    "plt.bar(cities, results[\"Sales\"])\n",
    "plt.xticks(cities, rotation = \"vertical\")\n",
    "plt.ylabel(\"Sale in USD ($)\")\n",
    "plt.xlabel(\"City Name\")"
   ]
  },
  {
   "cell_type": "markdown",
   "id": "0e61595d",
   "metadata": {},
   "source": [
    "# Analizando el grafico podemos ver que algo falla"
   ]
  },
  {
   "cell_type": "code",
   "execution_count": null,
   "id": "3636e27e",
   "metadata": {},
   "outputs": [],
   "source": [
    "for City in all_data[\"City\"]: \n",
    "    print(City)"
   ]
  },
  {
   "cell_type": "code",
   "execution_count": null,
   "id": "2a9644be",
   "metadata": {},
   "outputs": [],
   "source": [
    "for City in all_data[\"City\"]: \n",
    "    print(City)"
   ]
  },
  {
   "cell_type": "code",
   "execution_count": null,
   "id": "7c730f1e",
   "metadata": {},
   "outputs": [],
   "source": [
    "for City in all_data.groupby(\"City\"): \n",
    "    print(City)"
   ]
  },
  {
   "cell_type": "code",
   "execution_count": null,
   "id": "719dd062",
   "metadata": {},
   "outputs": [],
   "source": [
    "cities = [City for City, df in all_data.groupby(\"City\")]"
   ]
  },
  {
   "cell_type": "markdown",
   "id": "6a2eaa5b",
   "metadata": {},
   "source": [
    "### Volvemos a usar el mismo plot "
   ]
  },
  {
   "cell_type": "code",
   "execution_count": null,
   "id": "e5115c0a",
   "metadata": {},
   "outputs": [],
   "source": []
  },
  {
   "cell_type": "markdown",
   "id": "6d2feed5",
   "metadata": {},
   "source": [
    "### Ahora que ya sabemos los meses. A que hora deberiamos poner nuestros anunciar para maximizar la probabilidad de que los clientes compren nuestro producto?"
   ]
  },
  {
   "cell_type": "code",
   "execution_count": null,
   "id": "7eeb2214",
   "metadata": {
    "scrolled": true
   },
   "outputs": [],
   "source": [
    "all_data.head()"
   ]
  },
  {
   "cell_type": "markdown",
   "id": "79cbfa50",
   "metadata": {},
   "source": [
    "### Que hace datetime? "
   ]
  },
  {
   "cell_type": "code",
   "execution_count": null,
   "id": "50a011d8",
   "metadata": {},
   "outputs": [],
   "source": [
    "all_data[\"Order Date\"] = pd.to_datetime(all_data[\"Order Date\"])\n"
   ]
  },
  {
   "cell_type": "code",
   "execution_count": null,
   "id": "fa1c6a25",
   "metadata": {},
   "outputs": [],
   "source": [
    "all_data.head()"
   ]
  },
  {
   "cell_type": "code",
   "execution_count": null,
   "id": "1aa13b0d",
   "metadata": {},
   "outputs": [],
   "source": [
    "all_data[\"Hour\"] = all_data[\"Order Date\"].dt.hour\n",
    "all_data.head()"
   ]
  },
  {
   "cell_type": "code",
   "execution_count": null,
   "id": "4dc56939",
   "metadata": {},
   "outputs": [],
   "source": [
    "all_data[\"Minute\"] = ...."
   ]
  },
  {
   "cell_type": "code",
   "execution_count": null,
   "id": "cfe99980",
   "metadata": {},
   "outputs": [],
   "source": []
  },
  {
   "cell_type": "code",
   "execution_count": null,
   "id": "11abd87f",
   "metadata": {},
   "outputs": [],
   "source": [
    "xs = [x for x, df in all_data.groupby(\"X\")]\n",
    "\n",
    "#Antes queriamos ciudades ahora que queremos? \n",
    "plt.plot(hours, all_data.groupby([\"X\"]).count()) #Que esta haciendo el count? \n",
    "\n",
    "\n"
   ]
  },
  {
   "cell_type": "code",
   "execution_count": null,
   "id": "76b311d0",
   "metadata": {},
   "outputs": [],
   "source": []
  },
  {
   "cell_type": "code",
   "execution_count": null,
   "id": "aaf398db",
   "metadata": {},
   "outputs": [],
   "source": []
  },
  {
   "cell_type": "code",
   "execution_count": null,
   "id": "4871c8a3",
   "metadata": {},
   "outputs": [],
   "source": []
  },
  {
   "cell_type": "code",
   "execution_count": null,
   "id": "c1e0e9d7",
   "metadata": {},
   "outputs": [],
   "source": []
  },
  {
   "cell_type": "code",
   "execution_count": null,
   "id": "a1cf7eb1",
   "metadata": {},
   "outputs": [],
   "source": []
  },
  {
   "cell_type": "code",
   "execution_count": null,
   "id": "7de37e5e",
   "metadata": {},
   "outputs": [],
   "source": []
  },
  {
   "cell_type": "code",
   "execution_count": null,
   "id": "b32c52b4",
   "metadata": {},
   "outputs": [],
   "source": []
  },
  {
   "cell_type": "code",
   "execution_count": null,
   "id": "ec3fdc97",
   "metadata": {},
   "outputs": [],
   "source": []
  },
  {
   "cell_type": "code",
   "execution_count": null,
   "id": "0c4ba132",
   "metadata": {},
   "outputs": [],
   "source": []
  },
  {
   "cell_type": "code",
   "execution_count": null,
   "id": "0634b18d",
   "metadata": {},
   "outputs": [],
   "source": []
  },
  {
   "cell_type": "code",
   "execution_count": null,
   "id": "27471e3d",
   "metadata": {},
   "outputs": [],
   "source": []
  },
  {
   "cell_type": "code",
   "execution_count": null,
   "id": "9934b046",
   "metadata": {},
   "outputs": [],
   "source": []
  },
  {
   "cell_type": "code",
   "execution_count": null,
   "id": "8886fa0f",
   "metadata": {},
   "outputs": [],
   "source": []
  }
 ],
 "metadata": {
  "kernelspec": {
   "display_name": "Python 3 (ipykernel)",
   "language": "python",
   "name": "python3"
  },
  "language_info": {
   "codemirror_mode": {
    "name": "ipython",
    "version": 3
   },
   "file_extension": ".py",
   "mimetype": "text/x-python",
   "name": "python",
   "nbconvert_exporter": "python",
   "pygments_lexer": "ipython3",
   "version": "3.9.7"
  }
 },
 "nbformat": 4,
 "nbformat_minor": 5
}
